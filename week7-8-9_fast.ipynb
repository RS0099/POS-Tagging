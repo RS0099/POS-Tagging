{
  "nbformat": 4,
  "nbformat_minor": 0,
  "metadata": {
    "colab": {
      "name": "Copy of POS_Tagging_Anmol.ipynb",
      "provenance": [],
      "collapsed_sections": []
    },
    "kernelspec": {
      "name": "python3",
      "display_name": "Python 3"
    }
  },
  "cells": [
    {
      "cell_type": "code",
      "metadata": {
        "colab": {
          "base_uri": "https://localhost:8080/"
        },
        "id": "Kz0kDDFApS5Z",
        "outputId": "0b346dcd-ad98-4881-fcd7-a78a5b364d27"
      },
      "source": [
        "from google.colab import drive\n",
        "drive.mount(\"/content/drive\", force_remount=True)"
      ],
      "execution_count": 1,
      "outputs": [
        {
          "output_type": "stream",
          "text": [
            "Mounted at /content/drive\n"
          ],
          "name": "stdout"
        }
      ]
    },
    {
      "cell_type": "code",
      "metadata": {
        "colab": {
          "base_uri": "https://localhost:8080/"
        },
        "id": "c-SnfRaope2Q",
        "outputId": "e2e13ef0-1017-4ad5-a08a-ab1486494c05"
      },
      "source": [
        "cd /content/drive/Shareddrives/AI_Project/"
      ],
      "execution_count": 2,
      "outputs": [
        {
          "output_type": "stream",
          "text": [
            "/content/drive/Shareddrives/AI_Project\n"
          ],
          "name": "stdout"
        }
      ]
    },
    {
      "cell_type": "code",
      "metadata": {
        "id": "4OZtYiuDpfTZ"
      },
      "source": [
        "import csv\n",
        "path = 'sentence_train.csv'\n",
        "sentence_word_tag = list(csv.reader(open(path, encoding=\"utf8\")))[1:]\n",
        "# print(sentence_word_tag)"
      ],
      "execution_count": 3,
      "outputs": []
    },
    {
      "cell_type": "code",
      "metadata": {
        "id": "bm6Ofa1gpj2Z"
      },
      "source": [
        "transition_table = {}\n",
        "emission_table = {}\n",
        "transition_count = {}\n",
        "emission_count = {}\n",
        "all_tags = set()\n",
        "all_words = set()"
      ],
      "execution_count": 4,
      "outputs": []
    },
    {
      "cell_type": "code",
      "metadata": {
        "id": "a8Jrkz6iplvn"
      },
      "source": [
        "for sentence in sentence_word_tag:\n",
        "  sentence = ' '.join(sentence)\n",
        "  sentence = sentence.split(' ')\n",
        "  sentence = sentence[1:-1]\n",
        "  prev_tags = [\"start\"]\n",
        "  for word_tag in sentence:\n",
        "    try:\n",
        "      word = word_tag.split('_')[0]\n",
        "      curr_tags = word_tag.split('_')[1].split('-')\n",
        "    except:\n",
        "      continue\n",
        "    for curr_tag in curr_tags:\n",
        "      for prev_tag in prev_tags:\n",
        "        if prev_tag not in transition_table:\n",
        "          all_tags.add(prev_tag)\n",
        "          transition_table[prev_tag] = {}\n",
        "          transition_count[prev_tag] = 0\n",
        "        if curr_tag not in transition_table[prev_tag]:\n",
        "          all_tags.add(curr_tag)\n",
        "          transition_table[prev_tag][curr_tag] = 0\n",
        "        transition_table[prev_tag][curr_tag] = transition_table[prev_tag][curr_tag] + 1\n",
        "        transition_count[prev_tag] = transition_count[prev_tag] + 1\n",
        "        if (prev_tag[0]==\"start\"):\n",
        "          continue\n",
        "        if curr_tag not in emission_table:\n",
        "          emission_table[curr_tag] = {}\n",
        "          emission_count[curr_tag] = 0\n",
        "        if word not in emission_table[curr_tag]:\n",
        "          all_words.add(word)\n",
        "          emission_table[curr_tag][word] = 0\n",
        "        emission_table[curr_tag][word] = emission_table[curr_tag][word] + 1 \n",
        "        emission_count[curr_tag] = emission_count[curr_tag] + 1\n",
        "    prev_tags = curr_tags\n",
        "  curr_tags = [\"end\"]\n",
        "  for curr_tag in curr_tags:\n",
        "    for prev_tag in prev_tags:\n",
        "      if prev_tag not in transition_table:\n",
        "        transition_table[prev_tag] = {}\n",
        "        transition_count[prev_tag] = 0\n",
        "      if curr_tag not in transition_table[prev_tag]:\n",
        "        transition_table[prev_tag][curr_tag] = 0\n",
        "      transition_table[prev_tag][curr_tag] = transition_table[prev_tag][curr_tag] + 1\n",
        "      transition_count[prev_tag] = transition_count[prev_tag] + 1"
      ],
      "execution_count": 5,
      "outputs": []
    },
    {
      "cell_type": "code",
      "metadata": {
        "id": "_7fQ3LMxpnEm"
      },
      "source": [
        "for prev_tag in transition_table:\n",
        "  for curr_tag in transition_table[prev_tag]:\n",
        "    transition_table[prev_tag][curr_tag] = transition_table[prev_tag][curr_tag]/transition_count[prev_tag]\n",
        "for tag in emission_table:\n",
        "  for word in emission_table[tag]:\n",
        "    emission_table[tag][word] = emission_table[tag][word]/emission_count[tag]"
      ],
      "execution_count": 6,
      "outputs": []
    },
    {
      "cell_type": "code",
      "metadata": {
        "id": "6vVgKvV-pyVC"
      },
      "source": [
        "def HMM(sentence):\n",
        "  sentence = ' '.join(sentence)\n",
        "  sentence = sentence.split(' ')\n",
        "  sentence = sentence[1:-1]\n",
        "  prev_state = {}\n",
        "  curr_state = {}\n",
        "  prev_state['start'] = {}\n",
        "  prev_state['start']['sequence'] = ['start']\n",
        "  prev_state['start']['probability'] = 1\n",
        "  for word_tag in sentence:\n",
        "    try:\n",
        "      word = word_tag.split('_')[0]\n",
        "      acc_tags = word_tag.split('_')[1].split('-')\n",
        "    except:\n",
        "      continue\n",
        "    for tag in all_tags:\n",
        "      curr_state[tag] = {}\n",
        "      curr_state[tag]['sequence'] = []\n",
        "      curr_state[tag]['probability'] = 0\n",
        "    for prev_tag in prev_state:\n",
        "      for curr_tag in transition_table[prev_tag]:\n",
        "        if word in all_words:\n",
        "          if (curr_tag=='end'):\n",
        "            continue\n",
        "          if word in emission_table[curr_tag]:\n",
        "            probability = prev_state[prev_tag]['probability']*transition_table[prev_tag][curr_tag]*emission_table[curr_tag][word]\n",
        "            if (probability>curr_state[curr_tag]['probability']):\n",
        "              curr_state[curr_tag]['probability'] = prev_state[prev_tag]['probability']*transition_table[prev_tag][curr_tag]*emission_table[curr_tag][word]\n",
        "              curr_state[curr_tag]['sequence'] = prev_state[prev_tag]['sequence'][:]\n",
        "              curr_state[curr_tag]['sequence'].append(curr_tag)\n",
        "          else:\n",
        "            if curr_tag in curr_state:\n",
        "              del curr_state[curr_tag]  \n",
        "        else:\n",
        "          if (curr_tag=='end'):\n",
        "            continue\n",
        "          probability = prev_state[prev_tag]['probability']*transition_table[prev_tag][curr_tag]\n",
        "          if (probability>curr_state[curr_tag]['probability']):\n",
        "            curr_state[curr_tag]['probability'] = prev_state[prev_tag]['probability']*transition_table[prev_tag][curr_tag]\n",
        "            curr_state[curr_tag]['sequence'] = prev_state[prev_tag]['sequence'][:]\n",
        "            curr_state[curr_tag]['sequence'].append(curr_tag)\n",
        "    prev_state = {}\n",
        "    for tag in curr_state:\n",
        "      if(curr_state[tag]['probability']!=0):\n",
        "        prev_state[tag] = {}\n",
        "        prev_state[tag]['sequence'] = curr_state[tag]['sequence'][:]\n",
        "        prev_state[tag]['probability'] = curr_state[tag]['probability']\n",
        "    curr_state = {}\n",
        "  curr_state = {}\n",
        "  curr_state['end'] = {}\n",
        "  curr_state['end']['sequence'] = []\n",
        "  curr_state['end']['probability'] = 0\n",
        "  for prev_tag in prev_state:\n",
        "    if 'end' in transition_table[prev_tag]:\n",
        "      probability = prev_state[prev_tag]['probability']*transition_table[prev_tag]['end']\n",
        "      if (probability>curr_state['end']['probability']):\n",
        "        curr_state['end']['sequence'] = prev_state[prev_tag]['sequence'][:]\n",
        "        curr_state['end']['sequence'].append('end')\n",
        "        curr_state['end']['probability'] = probability\n",
        "\n",
        "  return curr_state['end']['sequence']"
      ],
      "execution_count": 7,
      "outputs": []
    },
    {
      "cell_type": "code",
      "metadata": {
        "id": "e4skNUZiIP2Z"
      },
      "source": [
        "path = 'sentence_test.csv'\n",
        "sentence_word_tag = list(csv.reader(open(path, encoding=\"utf8\")))[1:]"
      ],
      "execution_count": 8,
      "outputs": []
    },
    {
      "cell_type": "code",
      "metadata": {
        "id": "gBJyosEbPev2",
        "colab": {
          "base_uri": "https://localhost:8080/"
        },
        "outputId": "0dcf84c3-7db8-45ad-b4f9-01223d8f4a39"
      },
      "source": [
        "hit = 0 \n",
        "miss = 0\n",
        "lines = 0\n",
        "for sentence in sentence_word_tag[1:]:\n",
        "  lines = lines + 1\n",
        "  seq = HMM(sentence)\n",
        "  cnt = 1\n",
        "  sentence = ' '.join(sentence)\n",
        "  sentence = sentence.split(' ')\n",
        "  sentence = sentence[1:-1]    \n",
        "  for word_tag in sentence:\n",
        "    try:\n",
        "      word = word_tag.split('_')[0]\n",
        "      acc_tags = word_tag.split('_')[1].split('-')\n",
        "    except:\n",
        "      continue\n",
        "    flag = 0\n",
        "    for tag in acc_tags:\n",
        "      try:\n",
        "        if (tag==seq[cnt]):\n",
        "          flag = 1\n",
        "      except:\n",
        "        flag = 0\n",
        "    if (flag):\n",
        "      hit = hit + 1\n",
        "    else :\n",
        "      miss = miss + 1\n",
        "    cnt = cnt + 1\n",
        "  if(lines%5000==0):\n",
        "    print(\"{} : hits = {}  , miss = {} , accuracy = {}\".format(lines,hit,miss,hit/(hit+miss)))"
      ],
      "execution_count": 9,
      "outputs": [
        {
          "output_type": "stream",
          "text": [
            "5000 : hits = 101837  , miss = 2830 , accuracy = 0.9729618695481862\n",
            "10000 : hits = 176674  , miss = 5561 , accuracy = 0.9694844568825967\n",
            "15000 : hits = 244056  , miss = 8508 , accuracy = 0.9663134888582696\n",
            "20000 : hits = 339297  , miss = 11534 , accuracy = 0.9671237718445633\n",
            "25000 : hits = 437112  , miss = 14717 , accuracy = 0.9674279428721928\n",
            "30000 : hits = 533597  , miss = 17303 , accuracy = 0.9685913958976221\n",
            "35000 : hits = 645264  , miss = 21198 , accuracy = 0.9681932353232442\n",
            "40000 : hits = 783410  , miss = 25442 , accuracy = 0.968545543560503\n",
            "45000 : hits = 859352  , miss = 28932 , accuracy = 0.9674293356629187\n",
            "50000 : hits = 962605  , miss = 32411 , accuracy = 0.9674266544457577\n",
            "55000 : hits = 1062467  , miss = 35646 , accuracy = 0.9675388598441144\n",
            "60000 : hits = 1190207  , miss = 39953 , accuracy = 0.9675221109449177\n",
            "65000 : hits = 1290377  , miss = 43652 , accuracy = 0.9672780726655867\n",
            "70000 : hits = 1363738  , miss = 46254 , accuracy = 0.9671955585563606\n",
            "75000 : hits = 1461402  , miss = 48802 , accuracy = 0.9676851604154141\n",
            "80000 : hits = 1575685  , miss = 52570 , accuracy = 0.9677139023064569\n",
            "85000 : hits = 1667186  , miss = 55803 , accuracy = 0.9676126777361899\n",
            "90000 : hits = 1738149  , miss = 57918 , accuracy = 0.9677528733616285\n",
            "95000 : hits = 1835704  , miss = 61768 , accuracy = 0.967447213977334\n",
            "100000 : hits = 1956988  , miss = 67052 , accuracy = 0.9668721962016561\n",
            "105000 : hits = 2058304  , miss = 71697 , accuracy = 0.9663394524227923\n",
            "110000 : hits = 2169261  , miss = 75518 , accuracy = 0.9663583809363862\n",
            "115000 : hits = 2293895  , miss = 79271 , accuracy = 0.9665969426496082\n",
            "120000 : hits = 2394747  , miss = 82486 , accuracy = 0.9667023650984788\n",
            "125000 : hits = 2506218  , miss = 85544 , accuracy = 0.9669938829259785\n",
            "130000 : hits = 2596602  , miss = 89525 , accuracy = 0.9666713450257565\n",
            "135000 : hits = 2721160  , miss = 93022 , accuracy = 0.9669452793031865\n",
            "140000 : hits = 2792697  , miss = 94932 , accuracy = 0.9671245856029289\n",
            "145000 : hits = 2880820  , miss = 98447 , accuracy = 0.9669559660144592\n",
            "150000 : hits = 2990369  , miss = 102223 , accuracy = 0.9669458499536958\n",
            "155000 : hits = 3107489  , miss = 106371 , accuracy = 0.9669024164089288\n",
            "160000 : hits = 3176149  , miss = 108479 , accuracy = 0.9669737334029912\n",
            "165000 : hits = 3276532  , miss = 112102 , accuracy = 0.9669182331287475\n",
            "170000 : hits = 3374418  , miss = 115432 , accuracy = 0.9669235067409774\n",
            "175000 : hits = 3477194  , miss = 119654 , accuracy = 0.966733651241309\n",
            "180000 : hits = 3610968  , miss = 126276 , accuracy = 0.9662114649190687\n",
            "185000 : hits = 3715327  , miss = 129149 , accuracy = 0.96640660521746\n",
            "190000 : hits = 3809293  , miss = 132818 , accuracy = 0.9663078994985174\n",
            "195000 : hits = 3905602  , miss = 136303 , accuracy = 0.9662775349742263\n",
            "200000 : hits = 3981403  , miss = 139194 , accuracy = 0.9662199433722832\n"
          ],
          "name": "stdout"
        }
      ]
    },
    {
      "cell_type": "code",
      "metadata": {
        "colab": {
          "base_uri": "https://localhost:8080/"
        },
        "id": "EfWCGpNRZXuc",
        "outputId": "7ce8108e-dc2e-4775-ce64-f595c27e6db5"
      },
      "source": [
        "print(\"Overall accuracy on Test Dataset\")\n",
        "print(\"hits = {}  , miss = {} , accuracy = {}\".format(hit,miss,hit/(hit+miss)))"
      ],
      "execution_count": 10,
      "outputs": [
        {
          "output_type": "stream",
          "text": [
            "Overall accuracy on Test Dataset\n",
            "hits = 3990290  , miss = 139451 , accuracy = 0.9662325070748989\n"
          ],
          "name": "stdout"
        }
      ]
    }
  ]
}
