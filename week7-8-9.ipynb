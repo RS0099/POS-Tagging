{
  "nbformat": 4,
  "nbformat_minor": 0,
  "metadata": {
    "colab": {
      "name": "POS_Tagging_HMM.ipynb",
      "provenance": [],
      "collapsed_sections": []
    },
    "kernelspec": {
      "display_name": "Python 3",
      "language": "python",
      "name": "python3"
    },
    "language_info": {
      "codemirror_mode": {
        "name": "ipython",
        "version": 3
      },
      "file_extension": ".py",
      "mimetype": "text/x-python",
      "name": "python",
      "nbconvert_exporter": "python",
      "pygments_lexer": "ipython3",
      "version": "3.6.9"
    }
  },
  "cells": [
    {
      "cell_type": "code",
      "metadata": {
        "colab": {
          "base_uri": "https://localhost:8080/"
        },
        "id": "1HHk33TIxaJW",
        "outputId": "7b079f6d-edb8-4632-bae6-759220eae550"
      },
      "source": [
        "from google.colab import drive\n",
        "drive.mount('/gdrive')"
      ],
      "execution_count": 1,
      "outputs": [
        {
          "output_type": "stream",
          "text": [
            "Mounted at /gdrive\n"
          ],
          "name": "stdout"
        }
      ]
    },
    {
      "cell_type": "code",
      "metadata": {
        "id": "hmvwJOwLxaJY"
      },
      "source": [
        "import os\n",
        "import csv\n",
        "import numpy as np\n",
        "import matplotlib.pylab as plt\n",
        "import pandas as pd  \n",
        "import seaborn as sns\n",
        "import xml.etree.ElementTree as ET  \n",
        "from fnmatch import fnmatch\n",
        "import collections"
      ],
      "execution_count": 2,
      "outputs": []
    },
    {
      "cell_type": "code",
      "metadata": {
        "id": "WrtEmvDUK4St"
      },
      "source": [
        "row_list = [] # list used to store sentences"
      ],
      "execution_count": 3,
      "outputs": []
    },
    {
      "cell_type": "code",
      "metadata": {
        "id": "QJP_phbjKKWV"
      },
      "source": [
        "def go_deep(x ,line):\n",
        "\tif x.tag== 'w' or x.tag == 'c':\n",
        "\t\tstring = str(x.text)\n",
        "\t\tstring = string.strip()\n",
        "\t\tstring = string + \"_\"+x.attrib.get('c5')\n",
        "\t\tstring = \" \" + string\n",
        "\t\tline = line +string\n",
        "\t\t#print(line)\n",
        "\t\tstring = \"\"\n",
        "\t\treturn line\n",
        "\telse :\n",
        "\t\tfor y in x:\n",
        "\t\t\tline = go_deep(y ,line)\n",
        "\t\treturn line"
      ],
      "execution_count": 4,
      "outputs": []
    },
    {
      "cell_type": "code",
      "metadata": {
        "id": "l5g-CCygKONq"
      },
      "source": [
        "def go_deep1(x):\n",
        "\tif x.tag == 's':\n",
        "\t\tline = \"<S>\"\n",
        "\t\t#print(a.tag)\n",
        "\t\tline = go_deep(x ,line)\n",
        "\t\tline = line + \" \" + \"<E>\"\n",
        "\t\t#print(line)\n",
        "\t\trow = [line]\t\t \n",
        "\t\trow_list.append(row)\n",
        "\telse :\n",
        "\t\tfor y in x:\n",
        "\t\t\tgo_deep1(y)"
      ],
      "execution_count": 5,
      "outputs": []
    },
    {
      "cell_type": "code",
      "metadata": {
        "id": "XMhqiXW9JlfK"
      },
      "source": [
        "'''\n",
        "function to generate sentences from root directory\n",
        "'''\n",
        "\n",
        "def generate_sentences(root ,filename):\n",
        "\n",
        "  row_list.clear()\n",
        "  all_file_paths=list()\n",
        "\n",
        "  folders=os.listdir(path=root) \n",
        "  for folder in folders:\n",
        "\t  f_path=os.path.join(root,folder)\n",
        "\t  files=os.listdir(path=f_path)\n",
        "\t  for file in files:\n",
        "\t\t  f2_path=os.path.join(f_path,file)\n",
        "\t\t  all_file_paths.append(f2_path)\n",
        "    \n",
        "  for file_path in all_file_paths:\n",
        "\t  tree = ET.parse(file_path)\n",
        "\t  root = tree.getroot()\n",
        "\t  for a in root.findall('wtext'):\n",
        "\t\t  go_deep1(a)\n",
        "\n",
        "  with open(filename,'w')as file:\n",
        "\t  writer=csv.writer(file)\n",
        "\t  writer.writerows(row_list) \n"
      ],
      "execution_count": 6,
      "outputs": []
    },
    {
      "cell_type": "code",
      "metadata": {
        "id": "gTi4bUkBLvCv"
      },
      "source": [
        "generate_sentences('train-corpus' , 'sentences_train.csv')\n",
        "generate_sentences('test-corpus' , 'sentences_test.csv')"
      ],
      "execution_count": 7,
      "outputs": []
    },
    {
      "cell_type": "code",
      "metadata": {
        "id": "fkQWtudwxtNT"
      },
      "source": [
        "transition_table = {} # transition_table[prev_tag][curr_tag]\n",
        "emission_table = {} # emission_table[curr_tag][word]\n",
        "tag_names = [] # [ name1 , name2 ...]\n",
        "tag_no = {} # tag_no[tag] -> the index of tag\n",
        "transition_count = {}\n",
        "emission_count = {}\n",
        "factor1 = 0.0059   #transition probability for new tag-tag associations \n",
        "factor2 = 0.0000000008 #emission probability for new tag-word associations\n",
        "factor3 = 0 #threshold for selecting tag nodes for a word"
      ],
      "execution_count": 8,
      "outputs": []
    },
    {
      "cell_type": "code",
      "metadata": {
        "id": "ZWUFaqkExvSo"
      },
      "source": [
        "path_train = '/gdrive/Shareddrives/AI_Project/sentence_train.csv'\n",
        "path_test = '/gdrive/Shareddrives/AI_Project/sentence_test.csv'\n",
        "path_tag_names = '/gdrive/Shareddrives/AI_Project/tag_names.csv'"
      ],
      "execution_count": 9,
      "outputs": []
    },
    {
      "cell_type": "code",
      "metadata": {
        "id": "OUQe2FrVx2nx"
      },
      "source": [
        "'''\n",
        "This cell implements HMM with viterbi . The function takes as input a sentence consisting of word_tag . The function extracts \n",
        "the word sequence from this , which is then used to calculate the probable tag sequence for words.\n",
        "Input - > Sentence\n",
        "Output - > Tag sequence for the sentence with highest probability\n",
        "'''\n",
        "\n",
        "\n",
        "def viterbi(sentence):\n",
        "\n",
        "\tlayer_tag = {}\n",
        "\tlayer_tags = []\n",
        "\tprev_probs = [1]\n",
        "\tprev_tags = [\"start\"]\n",
        "\tprev = {}\n",
        "\tcurr = {}\n",
        "\tprev[\"start\"] = 1\n",
        "\n",
        "\tword_index = 0\n",
        "\tfor word_tag in sentence:\n",
        "\n",
        "\t\tword = word_tag.split('_')[0]\n",
        "\n",
        "\t\tcurr.clear()\n",
        "\t\tmax_prob_o = 0\n",
        "\n",
        "\t\tfor curr_tag in tag_names:\n",
        "\n",
        "\t\t\tprob_max = 0\n",
        "\t\t\tprob_max_tag = \"\"\n",
        "\t\t\tcurr[curr_tag] = {}\n",
        "\t\t\tfor prev_tag , prob in prev.items():\n",
        "\n",
        "\t\t\t\tcurr_prob = 0\n",
        "\t\t\t\tif prev_tag in transition_table.keys() and curr_tag in transition_table[prev_tag].keys():\n",
        "\t\t\t\t\tif curr_tag in emission_table.keys() and word in emission_table[curr_tag].keys():\n",
        "\t\t\t\t\t\tcurr_prob = prob*transition_table[prev_tag][curr_tag]*emission_table[curr_tag][word]\n",
        "\t\t\t\t\t\t# probability of a node is product of emission , transition and the probability of previous node\n",
        "\t\t\t\t\telse:\n",
        "\t\t\t\t\t\tcurr_prob = prob*transition_table[prev_tag][curr_tag]*factor2\n",
        "\t\t\t\telse:\n",
        "\t\t\t\t\tcurr_prob = prob*factor1*factor2\t\t\n",
        "\t\t\t\tif curr_prob>=prob_max:\n",
        "\t\t\t\t\tprob_max = curr_prob\n",
        "\t\t\t\t\tprob_max_tag = prev_tag\n",
        "\t\t\t\tif curr_prob>max_prob_o:\n",
        "\t\t\t\t\tmax_prob_o = curr_prob\t\n",
        "\n",
        "\t\t\t\t\n",
        "\t\t\tcurr[curr_tag][\"probability\"] = prob_max\n",
        "\t\t\tcurr[curr_tag][\"target\"] = prob_max_tag\n",
        "\t\t\t\n",
        "\t\t#print(curr_probs)\n",
        "\t\tmax_prob_o = max_prob_o *factor3\n",
        "\n",
        "\t\tlayer_tag[word_index] = {}\n",
        "\t\tprev.clear()\n",
        "\t\tfor tag in tag_names:\n",
        "\t\t\tif curr[tag][\"probability\"] >= max_prob_o:\n",
        "\t\t\t\tlayer_tag[word_index][tag] = curr[tag][\"target\"]\n",
        "\t\t\t\tprev[tag] = curr[tag][\"probability\"]\n",
        "\t\tword_index = word_index + 1\n",
        "\n",
        "\t#print(prev_tags)\n",
        "\tcurr_tag = \"end\"\n",
        "\tprob_max = 0\n",
        "\tprob_max_tag = \"\"\n",
        "\tfor prev_tag , prob in prev.items():\n",
        "\t\t\n",
        "\t\tcurr_prob = 0\n",
        "\t\tif prev_tag in transition_table.keys() and curr_tag in transition_table[prev_tag].keys():\n",
        "\t\t\tcurr_prob = prob*transition_table[prev_tag][curr_tag]\n",
        "\t\telse:\n",
        "\t\t\tcurr_prob = prob*factor1\t\t\t\n",
        "\t\tif curr_prob>=prob_max:\n",
        "\t\t\tprob_max = curr_prob\n",
        "\t\t\tprob_max_tag = prev_tag\n",
        "\tif prob_max == 0:\n",
        "\t\tprob_max = factor1*factor2\t\t\n",
        "\t\n",
        "\tword_index = word_index -1\n",
        "\tf_tag = prob_max_tag\n",
        "\n",
        "\tfinal_tag_list = []\n",
        "\tfinal_tag_list.append(f_tag)\n",
        "\n",
        "\twhile word_index>0:\n",
        "\n",
        "\t\tf_tag = layer_tag[word_index][f_tag]\n",
        "\t\tfinal_tag_list.append(f_tag)\n",
        "\n",
        "\t\tword_index = word_index -1\n",
        "\n",
        "\tfinal_tag_list.reverse()\n",
        "\n",
        "\treturn final_tag_list\n",
        "\n"
      ],
      "execution_count": 10,
      "outputs": []
    },
    {
      "cell_type": "code",
      "metadata": {
        "id": "2L-prRThB7iu"
      },
      "source": [
        "'''\n",
        "Slower version of viterbi , with higher accuracy\n",
        "Input - > Sentence\n",
        "Output - > Tag sequence for the sentence with highest probability\n",
        "'''\n",
        "\n",
        "def viterbi_acc(sentence):\n",
        "\n",
        "\n",
        "\tlayer_tags = []\n",
        "\tprev_probs = [1]\n",
        "\tprev_tags = [\"start\"]\n",
        "\n",
        "\tword_index = 0\n",
        "\tfor word_tag in sentence:\n",
        "\n",
        "\t\tword = word_tag.split('_')[0]\n",
        "\n",
        "\t\tcurr_probs = []\n",
        "\t\tcurr_tags_selected = []\n",
        "\n",
        "\t\tfor curr_tag in tag_names:\n",
        "\n",
        "\t\t\tprob_max = 0\n",
        "\t\t\tprob_max_tag = \"\"\n",
        "\t\t\ti = 0\n",
        "\t\t\tfor prev_tag in prev_tags:\n",
        "\n",
        "\t\t\t\tcurr_prob = 0\n",
        "\t\t\t\tif prev_tag in transition_table.keys() and curr_tag in transition_table[prev_tag].keys():\n",
        "\t\t\t\t\tif curr_tag in emission_table.keys() and word in emission_table[curr_tag].keys():\n",
        "\t\t\t\t\t\tcurr_prob = prev_probs[i]*transition_table[prev_tag][curr_tag]*emission_table[curr_tag][word]\n",
        "\n",
        "\t\t\t\t\telse:\n",
        "\t\t\t\t\t\tcurr_prob = prev_probs[i]*transition_table[prev_tag][curr_tag]*factor2\n",
        "\t\t\t\telse:\n",
        "\t\t\t\t\tcurr_prob = prev_probs[i]*factor1*factor2\t\t\n",
        "\t\t\t\tif curr_prob>=prob_max:\n",
        "\t\t\t\t\tprob_max = curr_prob\n",
        "\t\t\t\t\tprob_max_tag = prev_tag\n",
        "\n",
        "\t\t\t\ti = i + 1\n",
        "\t\t\tif prob_max == 0 or prob_max == 0.0:\n",
        "\t\t\t\tprob_max = factor1*factor2\n",
        "\t\t\tcurr_probs.append(prob_max)\n",
        "\t\t\tcurr_tags_selected.append(prob_max_tag)\n",
        "\t\t#print(curr_probs)\n",
        "\t\tlayer_tags.append(curr_tags_selected)\n",
        "\t\tprev_probs = curr_probs\n",
        "\t\tprev_tags = tag_names\n",
        "\t\tword_index = word_index + 1\n",
        "\n",
        "\t#print(prev_tags)\n",
        "\tcurr_tag = \"end\"\n",
        "\tprob_max = 0\n",
        "\tprob_max_tag = \"\"\n",
        "\ti = 0\n",
        "\tfor prev_tag in prev_tags:\n",
        "\t\t\n",
        "\t\tcurr_prob = 0\n",
        "\t\tif prev_tag in transition_table.keys() and curr_tag in transition_table[prev_tag].keys():\n",
        "\t\t\tcurr_prob = prev_probs[i]*transition_table[prev_tag][curr_tag]\n",
        "\t\telse:\n",
        "\t\t\tcurr_prob = prev_probs[i]*factor1\t\t\t\n",
        "\t\tif curr_prob>=prob_max:\n",
        "\t\t\tprob_max = curr_prob\n",
        "\t\t\tprob_max_tag = prev_tag\n",
        "\t\ti = i + 1\n",
        "\tif prob_max == 0:\n",
        "\t\tprob_max = factor1*factor2\t\t\n",
        "\tcurr_probs.append(prob_max)\n",
        "\t\n",
        "\tword_index = word_index -1\n",
        "\tf_tag = prob_max_tag\n",
        "\n",
        "\tfinal_tag_list = []\n",
        "\tfinal_tag_list.append(f_tag)\n",
        "\n",
        "\twhile word_index>0:\n",
        "\n",
        "\t\tf_no = tag_no[f_tag]\n",
        "\t\tf_tag = layer_tags[word_index][f_no]\n",
        "\t\tfinal_tag_list.append(f_tag)\n",
        "\n",
        "\t\tword_index = word_index -1\n",
        "\n",
        "\tfinal_tag_list.reverse()\n",
        "\n",
        "\treturn final_tag_list\n",
        "\n"
      ],
      "execution_count": 11,
      "outputs": []
    },
    {
      "cell_type": "code",
      "metadata": {
        "id": "iL0Oaxl3yOzj"
      },
      "source": [
        "'''\n",
        "This cell generates the transition and emission tables based on train data.\n",
        "The values are normalised to represent probability values\n",
        "'''\n",
        "\n",
        "sentence_word_tag = list(csv.reader(open(path_train)))[1:]\n",
        "\n",
        "#load tables\n",
        "\n",
        "for sentence in sentence_word_tag:\n",
        "  sentence = ' '.join(sentence)\n",
        "  sentence = sentence.split(' ')\n",
        "  sentence = sentence[1:-1]\n",
        "  prev_tags = [\"start\"]\n",
        "  for word_tag in sentence:\n",
        "    try:\n",
        "      word = word_tag.split('_')[0]\n",
        "      curr_tags = word_tag.split('_')[1].split('-')\n",
        "    except:\n",
        "      continue\n",
        "    for curr_tag in curr_tags:\n",
        "      for prev_tag in prev_tags:\n",
        "        if prev_tag not in transition_table:\n",
        "          transition_table[prev_tag] = {}\n",
        "          transition_count[prev_tag] = 0\n",
        "        if curr_tag not in transition_table[prev_tag]:\n",
        "          transition_table[prev_tag][curr_tag] = 0\n",
        "        transition_table[prev_tag][curr_tag] = transition_table[prev_tag][curr_tag] + 1\n",
        "        transition_count[prev_tag] = transition_count[prev_tag] + 1\n",
        "        if (prev_tag[0]==\"start\"):\n",
        "          continue\n",
        "        if curr_tag not in emission_table:\n",
        "          emission_table[curr_tag] = {}\n",
        "          emission_count[curr_tag] = 0\n",
        "        if word not in emission_table[curr_tag]:\n",
        "          emission_table[curr_tag][word] = 0\n",
        "        emission_table[curr_tag][word] = emission_table[curr_tag][word] + 1 \n",
        "        emission_count[curr_tag] = emission_count[curr_tag] + 1\n",
        "    prev_tags = curr_tags\n",
        "  #print(prev_tags)  \n",
        "  curr_tags = [\"end\"]\n",
        "  for curr_tag in curr_tags:\n",
        "    for prev_tag in prev_tags:\n",
        "      if prev_tag not in transition_table:\n",
        "        transition_table[prev_tag] = {}\n",
        "        transition_count[prev_tag] = 0\n",
        "      if curr_tag not in transition_table[prev_tag]:\n",
        "        transition_table[prev_tag][curr_tag] = 0\n",
        "      transition_table[prev_tag][curr_tag] = transition_table[prev_tag][curr_tag] + 1\n",
        "      transition_count[prev_tag] = transition_count[prev_tag] + 1\n",
        "\n",
        "for prev_tag in transition_table:\n",
        "  for curr_tag in transition_table[prev_tag]:\n",
        "    transition_table[prev_tag][curr_tag] = transition_table[prev_tag][curr_tag]/transition_count[prev_tag]\n",
        "for tag in emission_table:\n",
        "  for word in emission_table[tag]:\n",
        "    emission_table[tag][word] = emission_table[tag][word]/emission_count[tag]\n",
        "\n"
      ],
      "execution_count": 12,
      "outputs": []
    },
    {
      "cell_type": "code",
      "metadata": {
        "colab": {
          "base_uri": "https://localhost:8080/"
        },
        "id": "tP5Cfx6W8c39",
        "outputId": "c605ac92-0bd7-49b1-a262-6e7d6d383c21"
      },
      "source": [
        "'''\n",
        "This cell calculates mean for transition and emission table values\n",
        "'''\n",
        "\n",
        "mean1 =0 \n",
        "cmean1 = 0\n",
        "mean2 = 0\n",
        "cmean2 = 0\n",
        "\n",
        "for key,value in transition_table.items():\n",
        "  for key2,value2 in transition_table[key].items():\n",
        "    mean1 = mean1 + value2\n",
        "    cmean1 = cmean1 + 1\n",
        "mn1 = mean1 / cmean1    \n",
        "\n",
        "for key,value in emission_table.items():\n",
        "  for key2,value2 in emission_table[key].items():\n",
        "    mean2 = mean2 + value2\n",
        "    cmean2 = cmean2 + 1\n",
        "mn2 = mean2 / cmean2    \n",
        "\n",
        "\n",
        "print(mn1)\n",
        "print(mn2)"
      ],
      "execution_count": 13,
      "outputs": [
        {
          "output_type": "stream",
          "text": [
            "0.019266625233063966\n",
            "0.00024147895966113324\n"
          ],
          "name": "stdout"
        }
      ]
    },
    {
      "cell_type": "code",
      "metadata": {
        "id": "N4p3DbQDyVp8"
      },
      "source": [
        "'''\n",
        "Read the list of tags into tag_names \n",
        "'''\n",
        "\n",
        "with open( path_tag_names , 'r') as file:\n",
        "\treader = csv.reader(file)\n",
        "\ti = 0\n",
        "\tfor row in reader:\n",
        "\t\tro = row[0]\n",
        "\t\ttag_names.append(ro)\n",
        "\t\ttag_no[ro] = i\n",
        "\t\ti = i+1       \n"
      ],
      "execution_count": 14,
      "outputs": []
    },
    {
      "cell_type": "code",
      "metadata": {
        "id": "KfjhhSgSy8ei"
      },
      "source": [
        "sentence_word_tag_test = list(csv.reader(open(path_test)))[1:]"
      ],
      "execution_count": 15,
      "outputs": []
    },
    {
      "cell_type": "code",
      "metadata": {
        "id": "2mwBkzdcz6o-"
      },
      "source": [
        "'''\n",
        "Creates confusion dictionary for creating confusion matrix\n",
        "'''\n",
        "confusion_dict = {}\n",
        "\n",
        "for tag in tag_names:\n",
        "  confusion_dict[tag]  = {}\n",
        "  for tag_2 in tag_names:\n",
        "    confusion_dict[tag][tag_2] = 0"
      ],
      "execution_count": 16,
      "outputs": []
    },
    {
      "cell_type": "code",
      "metadata": {
        "colab": {
          "base_uri": "https://localhost:8080/"
        },
        "id": "T4LLdu20yyFi",
        "outputId": "7c7cd3af-3b19-400c-a731-efa315ac20a4"
      },
      "source": [
        "'''\n",
        "This cell reads test data and runs hmm viterbi.\n",
        "Prints the accuracy found \n",
        "'''\n",
        "\n",
        "factor1 = 0.0059   \n",
        "factor2 = 0.0000000008 \n",
        "factor3 = 0.001\n",
        "\n",
        "print(\"factor1 : {}     and factor2 : {}   and factor3 : {}  \".format(factor1,factor2,factor3))\n",
        "\n",
        "hits = 0\n",
        "miss = 0\n",
        "lines = 0\n",
        "dline = 0\n",
        "for sentence in sentence_word_tag_test:\n",
        "    sentence = ' '.join(sentence)\n",
        "    sentence = sentence.split(' ')\t\n",
        "    sentence = sentence[1:-1]\n",
        "    pos_tag_seq = viterbi(sentence)\n",
        "    i = 0\n",
        "    for word_tag in sentence:\n",
        "      tag_p = word_tag.split('_')[1].split('-')\n",
        "      if pos_tag_seq[i] in tag_p:\n",
        "        hits = hits+1\n",
        "      else :\n",
        "        miss = miss +1\n",
        "      for tag in tag_p:\n",
        "        confusion_dict[tag][pos_tag_seq[i]] = confusion_dict[tag][pos_tag_seq[i]] +1    \n",
        "\n",
        "      i= i+1\n",
        "    lines = lines +1\t\n",
        "    if lines - dline == 5000:\n",
        "        acc = hits / (hits + miss)\n",
        "        print(\"{} : hits = {}  , miss = {} , accuracy = {}\".format(lines,hits,miss,acc))\n",
        "        dline = lines\n",
        "\n",
        "\n",
        "acc = hits / (hits + miss)\n",
        "print(\"Overall accuracy on Test Dataset\")\n",
        "print(\"hits = {}  , miss = {} , accuracy = {}\".format(hits,miss,acc))"
      ],
      "execution_count": 17,
      "outputs": [
        {
          "output_type": "stream",
          "text": [
            "factor1 : 0.0059     and factor2 : 8e-10   and factor3 : 0.001  \n",
            "5000 : hits = 101839  , miss = 2829 , accuracy = 0.9729716818894026\n",
            "10000 : hits = 176735  , miss = 5471 , accuracy = 0.9699735464254745\n",
            "15000 : hits = 244214  , miss = 8348 , accuracy = 0.9669467299118633\n",
            "20000 : hits = 339535  , miss = 11280 , accuracy = 0.9678463007568091\n",
            "25000 : hits = 437622  , miss = 14199 , accuracy = 0.9685738378694217\n",
            "30000 : hits = 534339  , miss = 16552 , accuracy = 0.9699541288567067\n",
            "35000 : hits = 646692  , miss = 19755 , accuracy = 0.9703577328729817\n",
            "40000 : hits = 785119  , miss = 23699 , accuracy = 0.9706992178710168\n",
            "45000 : hits = 861405  , miss = 26855 , accuracy = 0.9697667349649878\n",
            "50000 : hits = 964907  , miss = 30101 , accuracy = 0.9697479819257735\n",
            "55000 : hits = 1064849  , miss = 33256 , accuracy = 0.9697151001042705\n",
            "60000 : hits = 1192855  , miss = 37288 , accuracy = 0.9696880769146351\n",
            "65000 : hits = 1293246  , miss = 40768 , accuracy = 0.9694396010836468\n",
            "70000 : hits = 1366746  , miss = 43244 , accuracy = 0.9693302789381485\n",
            "75000 : hits = 1464416  , miss = 45756 , accuracy = 0.9697014644689479\n",
            "80000 : hits = 1579152  , miss = 49097 , accuracy = 0.9698467494836478\n",
            "85000 : hits = 1670817  , miss = 52126 , accuracy = 0.9697459521295829\n",
            "90000 : hits = 1741893  , miss = 54169 , accuracy = 0.9698401280133983\n",
            "95000 : hits = 1839864  , miss = 57591 , accuracy = 0.969648292054357\n",
            "100000 : hits = 1962125  , miss = 61910 , accuracy = 0.9694125842685527\n",
            "105000 : hits = 2064503  , miss = 65473 , accuracy = 0.9692611559942459\n",
            "110000 : hits = 2175674  , miss = 69098 , accuracy = 0.9692182546824355\n",
            "115000 : hits = 2300371  , miss = 72782 , accuracy = 0.969331096646529\n",
            "120000 : hits = 2401485  , miss = 75720 , accuracy = 0.9694332927634168\n",
            "125000 : hits = 2513207  , miss = 78555 , accuracy = 0.969690503989178\n",
            "130000 : hits = 2604114  , miss = 82007 , accuracy = 0.9694701020542261\n",
            "135000 : hits = 2728738  , miss = 85420 , accuracy = 0.9696463382653\n",
            "140000 : hits = 2800315  , miss = 87309 , accuracy = 0.9697644153116888\n",
            "145000 : hits = 2888759  , miss = 90486 , accuracy = 0.9696278755187976\n",
            "150000 : hits = 2998775  , miss = 93777 , accuracy = 0.9696765001849605\n",
            "155000 : hits = 3116149  , miss = 97704 , accuracy = 0.9695991073642758\n",
            "160000 : hits = 3184853  , miss = 99769 , accuracy = 0.9696254241736187\n",
            "165000 : hits = 3285356  , miss = 103261 , accuracy = 0.969527096157518\n",
            "170000 : hits = 3383446  , miss = 106396 , accuracy = 0.9695126598854619\n",
            "175000 : hits = 3486315  , miss = 110508 , accuracy = 0.9692762195971278\n",
            "180000 : hits = 3621402  , miss = 115833 , accuracy = 0.9690056953870977\n",
            "185000 : hits = 3725778  , miss = 118695 , accuracy = 0.9691258073603326\n",
            "190000 : hits = 3820117  , miss = 121987 , accuracy = 0.9690553572407019\n",
            "195000 : hits = 3916716  , miss = 125180 , accuracy = 0.9690293862088485\n",
            "200000 : hits = 3992537  , miss = 128036 , accuracy = 0.9689276224447425\n",
            "Overall accuracy on Test Dataset\n",
            "hits = 4001450  , miss = 128294 , accuracy = 0.9689341518505747\n"
          ],
          "name": "stdout"
        }
      ]
    },
    {
      "cell_type": "code",
      "metadata": {
        "colab": {
          "base_uri": "https://localhost:8080/"
        },
        "id": "F3s7xBe_58NE",
        "outputId": "5a8ed0cf-e887-4694-b869-00df3c55002e"
      },
      "source": [
        "\n",
        "factor1 = 0.0059   \n",
        "factor2 = 0.0000000008 \n",
        "\n",
        "print(\"factor1 : {}     and factor2 : {} \".format(factor1,factor2))\n",
        "\n",
        "\n",
        "hits = 0\n",
        "miss = 0\n",
        "lines = 0\n",
        "dline = 0\n",
        "for sentence in sentence_word_tag_test:\n",
        "    sentence = ' '.join(sentence)\n",
        "    sentence = sentence.split(' ')\t\n",
        "    sentence = sentence[1:-1]\n",
        "    pos_tag_seq = viterbi_acc(sentence)\n",
        "    i = 0\n",
        "    for word_tag in sentence:\n",
        "      tag_p = word_tag.split('_')[1].split('-')\n",
        "      if pos_tag_seq[i] in tag_p:\n",
        "        hits = hits+1\n",
        "      else :\n",
        "        miss = miss +1\n",
        "      for tag in tag_p:\n",
        "        confusion_dict[tag][pos_tag_seq[i]] = confusion_dict[tag][pos_tag_seq[i]] +1    \n",
        "\n",
        "      i= i+1\n",
        "    lines = lines +1\t\n",
        "    if lines - dline == 5000:\n",
        "        acc = hits / (hits + miss)\n",
        "        print(\"{} : hits = {}  , miss = {} , accuracy = {}\".format(lines,hits,miss,acc))\n",
        "        dline = lines\n",
        "\n",
        "\n",
        "acc = hits / (hits + miss)\n",
        "print(\"Overall accuracy on Test Dataset\")\n",
        "print(\"hits = {}  , miss = {} , accuracy = {}\".format(hits,miss,acc))"
      ],
      "execution_count": 18,
      "outputs": [
        {
          "output_type": "stream",
          "text": [
            "factor1 : 0.0059     and factor2 : 8e-10 \n",
            "5000 : hits = 101836  , miss = 2832 , accuracy = 0.9729430198341422\n",
            "10000 : hits = 176731  , miss = 5475 , accuracy = 0.9699515932515943\n",
            "15000 : hits = 244209  , miss = 8353 , accuracy = 0.96692693279274\n",
            "20000 : hits = 339530  , miss = 11285 , accuracy = 0.9678320482305489\n",
            "25000 : hits = 437658  , miss = 14163 , accuracy = 0.9686535154408493\n",
            "30000 : hits = 534407  , miss = 16484 , accuracy = 0.9700775652533804\n",
            "35000 : hits = 646877  , miss = 19570 , accuracy = 0.9706353243393698\n",
            "40000 : hits = 785344  , miss = 23474 , accuracy = 0.9709774015909636\n",
            "45000 : hits = 861746  , miss = 26514 , accuracy = 0.9701506315718371\n",
            "50000 : hits = 965262  , miss = 29746 , accuracy = 0.97010476297678\n",
            "55000 : hits = 1065204  , miss = 32901 , accuracy = 0.9700383843075115\n",
            "60000 : hits = 1193332  , miss = 36811 , accuracy = 0.9700758367116669\n",
            "65000 : hits = 1293733  , miss = 40281 , accuracy = 0.9698046647186611\n",
            "70000 : hits = 1367235  , miss = 42755 , accuracy = 0.969677089908439\n",
            "75000 : hits = 1464904  , miss = 45268 , accuracy = 0.9700246064686672\n",
            "80000 : hits = 1579745  , miss = 48504 , accuracy = 0.9702109443948683\n",
            "85000 : hits = 1671426  , miss = 51517 , accuracy = 0.9700994171020167\n",
            "90000 : hits = 1742502  , miss = 53560 , accuracy = 0.9701792031678194\n",
            "95000 : hits = 1840768  , miss = 56687 , accuracy = 0.970124719690322\n",
            "100000 : hits = 1963330  , miss = 60705 , accuracy = 0.9700079297047729\n",
            "105000 : hits = 2066076  , miss = 63900 , accuracy = 0.9699996619680221\n",
            "110000 : hits = 2177372  , miss = 67400 , accuracy = 0.9699746789428949\n",
            "115000 : hits = 2302069  , miss = 71084 , accuracy = 0.9700466004509612\n",
            "120000 : hits = 2403212  , miss = 73993 , accuracy = 0.9701304494379754\n",
            "125000 : hits = 2515036  , miss = 76726 , accuracy = 0.9703962015030702\n",
            "130000 : hits = 2606185  , miss = 79936 , accuracy = 0.9702411023181755\n",
            "135000 : hits = 2730868  , miss = 83290 , accuracy = 0.9704032254052545\n",
            "140000 : hits = 2802445  , miss = 85179 , accuracy = 0.9705020459727444\n",
            "145000 : hits = 2890952  , miss = 88293 , accuracy = 0.9703639680523085\n",
            "150000 : hits = 3001021  , miss = 91531 , accuracy = 0.9704027612146862\n",
            "155000 : hits = 3118483  , miss = 95370 , accuracy = 0.9703253384644537\n",
            "160000 : hits = 3187185  , miss = 97437 , accuracy = 0.9703353993244885\n",
            "165000 : hits = 3287731  , miss = 100886 , accuracy = 0.9702279720605781\n",
            "170000 : hits = 3385893  , miss = 103949 , accuracy = 0.9702138377611365\n",
            "175000 : hits = 3488828  , miss = 107995 , accuracy = 0.9699748917308414\n",
            "180000 : hits = 3624692  , miss = 112543 , accuracy = 0.9698860253636713\n",
            "185000 : hits = 3729071  , miss = 115402 , accuracy = 0.9699823616917065\n",
            "190000 : hits = 3823478  , miss = 118626 , accuracy = 0.9699079476340553\n",
            "195000 : hits = 3920125  , miss = 121771 , accuracy = 0.9698728022690342\n",
            "200000 : hits = 3995945  , miss = 124628 , accuracy = 0.9697546918838715\n",
            "Overall accuracy on Test Dataset\n",
            "hits = 4004858  , miss = 124886 , accuracy = 0.9697593846010794\n"
          ],
          "name": "stdout"
        }
      ]
    },
    {
      "cell_type": "code",
      "metadata": {
        "id": "tTvyv9IU5GdA",
        "colab": {
          "base_uri": "https://localhost:8080/",
          "height": 935
        },
        "outputId": "916c84b0-fe7e-4480-904a-2f43e872fd11"
      },
      "source": [
        "'''\n",
        "create confusion matrix \n",
        "'''\n",
        "\n",
        "#convert to sorted dictionary\n",
        "\n",
        "conf_dict = {}\n",
        "\n",
        "conf_dict = collections.OrderedDict(sorted(confusion_dict.items()))\n",
        "\n",
        "for key,value in conf_dict.items():\n",
        "  conf_dict[key] = collections.OrderedDict(sorted(conf_dict[key].items()))\n",
        "\n",
        "#convert dictionary to dataframe\n",
        "\n",
        "conf_dataframe = pd.DataFrame.from_dict(conf_dict, orient='columns')\n",
        "conf_dataframe = conf_dataframe.replace(np.nan, 0)\n",
        "conf_dataframe = conf_dataframe.sort_index(ascending=True, axis=1)\n",
        "\n",
        "#noramlise dataframe\n",
        "\n",
        "conf_dataframe = conf_dataframe/ conf_dataframe.sum(axis=1)\n",
        "#plot the confusion matrix\n",
        "\n",
        "plt.figure(figsize = (20,15))\n",
        "confusion_heatmap = sns.heatmap(conf_dataframe ,xticklabels=1 , yticklabels=1 , cmap = 'Blues' ,vmin=0 ,vmax=0.1)\n",
        "\n",
        "plt.ylabel('Predicted tags',fontsize =24)\n",
        "plt.xlabel('Actual tags',fontsize =24)\n",
        "plt.title('Confusion Matrix for POS tags on test dataset' , fontsize = 32)\n",
        "\n",
        "#save the confusion matrix\n",
        "\n",
        "fig = confusion_heatmap.get_figure()\n",
        "fig.savefig('/gdrive/Shareddrives/AI_Project/Confusion_matrix.png') "
      ],
      "execution_count": 19,
      "outputs": [
        {
          "output_type": "display_data",
          "data": {
            "image/png": "[encoded data removed]",
            "text/plain": [
              "<Figure size 1440x1080 with 2 Axes>"
            ]
          },
          "metadata": {
            "tags": [],
            "needs_background": "light"
          }
        }
      ]
    },
    {
      "cell_type": "code",
      "metadata": {
        "id": "KRLP0Mfj6JDh"
      },
      "source": [
        ""
      ],
      "execution_count": 20,
      "outputs": []
    }
  ]
}
