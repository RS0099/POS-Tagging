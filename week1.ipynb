{
  "nbformat": 4,
  "nbformat_minor": 0,
  "metadata": {
    "colab": {
      "name": "week1",
      "provenance": []
    },
    "kernelspec": {
      "name": "python3",
      "display_name": "Python 3"
    }
  },
  "cells": [
    {
      "cell_type": "code",
      "metadata": {
        "id": "EIGevTdLm__V"
      },
      "source": [
        "import os\n",
        "import csv\n",
        "import xml.etree.ElementTree as ET"
      ],
      "execution_count": 1,
      "outputs": []
    },
    {
      "cell_type": "code",
      "metadata": {
        "id": "e_Z8Ymein3AC"
      },
      "source": [
        "def dfstest(x):\n",
        "    flag = 0\n",
        "    if x.tag== 'w' or x.tag == 'c':\n",
        "        if(x.text!=None):\n",
        "            string = x.text.strip() + \"_\" + x.attrib.get('c5')\n",
        "            row = row = [string]\n",
        "            row_list_test.append(row)\n",
        "    else :\n",
        "        for y in x:\n",
        "            dfstest(y)"
      ],
      "execution_count": 2,
      "outputs": []
    },
    {
      "cell_type": "code",
      "metadata": {
        "id": "s2Hm2X6Zn30N"
      },
      "source": [
        "def dfstrain(x):\n",
        "    flag = 0\n",
        "    if x.tag== 'w' or x.tag == 'c':\n",
        "        if(x.text!=None):\n",
        "            string = x.text.strip() + \"_\" + x.attrib.get('c5')\n",
        "            row = row = [string]\n",
        "            row_list_train.append(row)\n",
        "    else :\n",
        "        for y in x:\n",
        "            dfstrain(y)"
      ],
      "execution_count": 3,
      "outputs": []
    },
    {
      "cell_type": "code",
      "metadata": {
        "id": "cNkXAnHQn47E"
      },
      "source": [
        "root_train = '/content/drive/MyDrive/train-corpus'\n",
        "root_test = '/content/drive/MyDrive/test-corpus'\n",
        "pattern = \"*.xml\"\n",
        "file_paths_train = list()\n",
        "file_paths_test = list()\n",
        "row_list_train = [[\"Word_pos\"]]\n",
        "row_list_test = [[\"Word_pos\"]]"
      ],
      "execution_count": 4,
      "outputs": []
    },
    {
      "cell_type": "code",
      "metadata": {
        "id": "rhiniUq3qrqA"
      },
      "source": [
        "folders = os.listdir(path = root_train)\n",
        "stack = []\n",
        "for folder in folders:\n",
        "    for file in os.listdir(path = os.path.join(root_train,folder)):\t\n",
        "        file_paths_train.append(os.path.join(os.path.join(root_train,folder),file))\n",
        "for file_path in file_paths_train:\n",
        "    for a in ET.parse(file_path).getroot().findall('wtext'):\n",
        "        dfstrain(a)"
      ],
      "execution_count": 5,
      "outputs": []
    },
    {
      "cell_type": "code",
      "metadata": {
        "id": "N6N2_BhPoF7T"
      },
      "source": [
        "folders = os.listdir(path = root_test)\n",
        "for folder in folders:\n",
        "    for file in os.listdir(path = os.path.join(root_test,folder)):\t\n",
        "        file_paths_test.append(os.path.join(os.path.join(root_test,folder),file))\n",
        "for file_path in file_paths_test:\n",
        "    for a in ET.parse(file_path).getroot().findall('wtext'):\n",
        "        dfstest(a)"
      ],
      "execution_count": 6,
      "outputs": []
    },
    {
      "cell_type": "code",
      "metadata": {
        "id": "gY0Sg_W-oHd3"
      },
      "source": [
        "word_tag_train = open(\"/content/drive/MyDrive/word_tag_train.csv\", \"wt\", newline='\\n')\n",
        "word_tag_train_object = csv.writer(word_tag_train)\n",
        "word_tag_train_object.writerows(row_list_train)"
      ],
      "execution_count": 7,
      "outputs": []
    },
    {
      "cell_type": "code",
      "metadata": {
        "id": "oMBYS3KKoHTx"
      },
      "source": [
        "word_tag_test = open(\"/content/drive/MyDrive/word_tag_test.csv\", \"wt\", newline='\\n')\n",
        "word_tag_test_object = csv.writer(word_tag_test)\n",
        "word_tag_test_object.writerows(row_list_test)"
      ],
      "execution_count": 8,
      "outputs": []
    }
  ]
}
